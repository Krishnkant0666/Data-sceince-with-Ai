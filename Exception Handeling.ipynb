{
 "cells": [
  {
   "cell_type": "markdown",
   "id": "1e228c06",
   "metadata": {},
   "source": [
    "### **Exception Handeling**"
   ]
  },
  {
   "cell_type": "code",
   "execution_count": null,
   "id": "d9501434",
   "metadata": {},
   "outputs": [],
   "source": [
    "try:\n",
    "    pass\n",
    "except:\n",
    "    pass\n",
    "else:\n",
    "    pass\n",
    "finally:\n",
    "    pass"
   ]
  },
  {
   "cell_type": "code",
   "execution_count": 2,
   "id": "e8c8f8bb",
   "metadata": {},
   "outputs": [
    {
     "name": "stdout",
     "output_type": "stream",
     "text": [
      "0 mt daalo division by zero\n",
      "Thankyou\n"
     ]
    }
   ],
   "source": [
    "try:\n",
    "    num = int(input(\"enter a number\"))\n",
    "    result = 10/num\n",
    "\n",
    "except (ValueError , ZeroDivisionError) as e:\n",
    "    print(\"0 mt daalo\",e)\n",
    "\n",
    "else:\n",
    "    print(\"this is else block\")\n",
    "    print(result)\n",
    "\n",
    "finally:\n",
    "    print(\"Thankyou\")\n"
   ]
  },
  {
   "cell_type": "code",
   "execution_count": 3,
   "id": "c9b6dcbf",
   "metadata": {},
   "outputs": [
    {
     "name": "stdout",
     "output_type": "stream",
     "text": [
      "this is else block\n",
      "2.5\n",
      "Thankyou\n"
     ]
    }
   ],
   "source": [
    "try:\n",
    "    num = int(input(\"enter a number\"))\n",
    "    result = 10/num\n",
    "\n",
    "except (ValueError , ZeroDivisionError) as e:\n",
    "    print(\"0 mt daalo\",e)\n",
    "\n",
    "else:\n",
    "    print(\"this is else block\")\n",
    "    print(result)\n",
    "\n",
    "finally:\n",
    "    print(\"Thankyou\")\n"
   ]
  }
 ],
 "metadata": {
  "kernelspec": {
   "display_name": "Python 3",
   "language": "python",
   "name": "python3"
  },
  "language_info": {
   "codemirror_mode": {
    "name": "ipython",
    "version": 3
   },
   "file_extension": ".py",
   "mimetype": "text/x-python",
   "name": "python",
   "nbconvert_exporter": "python",
   "pygments_lexer": "ipython3",
   "version": "3.11.5"
  }
 },
 "nbformat": 4,
 "nbformat_minor": 5
}
