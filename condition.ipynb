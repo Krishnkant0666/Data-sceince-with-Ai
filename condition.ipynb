{
 "cells": [
  {
   "cell_type": "markdown",
   "id": "086f6e1c",
   "metadata": {},
   "source": [
    "### *conditional* **statement** in python"
   ]
  },
  {
   "cell_type": "code",
   "execution_count": null,
   "id": "9a899be6",
   "metadata": {},
   "outputs": [],
   "source": [
    "# if \n",
    "#  main Code\n",
    "# elif\n",
    "#  multiple condition\n",
    "# else"
   ]
  },
  {
   "cell_type": "code",
   "execution_count": null,
   "id": "e2326606",
   "metadata": {},
   "outputs": [],
   "source": [
    "# if 10>5:\n",
    "#     pass   #pass is placeholder\n",
    "# else:\n",
    "#     pass"
   ]
  },
  {
   "cell_type": "code",
   "execution_count": 2,
   "id": "c22bc753",
   "metadata": {},
   "outputs": [
    {
     "name": "stdout",
     "output_type": "stream",
     "text": [
      "10 is greator than 5\n"
     ]
    }
   ],
   "source": [
    "if 10>5:\n",
    "    print(\"10 is greator than 5\")"
   ]
  },
  {
   "cell_type": "code",
   "execution_count": 6,
   "id": "242b4de1",
   "metadata": {},
   "outputs": [],
   "source": [
    "if 10<5:\n",
    "    print(\"10 is greater than 5\")"
   ]
  },
  {
   "cell_type": "code",
   "execution_count": 7,
   "id": "69ec549d",
   "metadata": {},
   "outputs": [
    {
     "name": "stdout",
     "output_type": "stream",
     "text": [
      "10 is greater than 5\n"
     ]
    }
   ],
   "source": [
    "if 10>5:\n",
    "    print(\"10 is greater than 5\")\n",
    "\n",
    "else:\n",
    "    print(\"5 is less than 1o\")\n",
    "        "
   ]
  },
  {
   "cell_type": "code",
   "execution_count": 8,
   "id": "4d06e99b",
   "metadata": {},
   "outputs": [
    {
     "name": "stdout",
     "output_type": "stream",
     "text": [
      "5 is less than 1o\n"
     ]
    }
   ],
   "source": [
    "if 10<5:\n",
    "    print(\"10 is greater than 5\")\n",
    "\n",
    "else:\n",
    "    print(\"5 is less than 1o\")"
   ]
  },
  {
   "cell_type": "code",
   "execution_count": null,
   "id": "8bf5d88e",
   "metadata": {},
   "outputs": [],
   "source": [
    "if 10<5:\n",
    "    print"
   ]
  }
 ],
 "metadata": {
  "kernelspec": {
   "display_name": "Python 3",
   "language": "python",
   "name": "python3"
  },
  "language_info": {
   "codemirror_mode": {
    "name": "ipython",
    "version": 3
   },
   "file_extension": ".py",
   "mimetype": "text/x-python",
   "name": "python",
   "nbconvert_exporter": "python",
   "pygments_lexer": "ipython3",
   "version": "3.11.5"
  }
 },
 "nbformat": 4,
 "nbformat_minor": 5
}
