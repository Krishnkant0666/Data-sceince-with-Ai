{
 "cells": [
  {
   "cell_type": "code",
   "execution_count": 1,
   "id": "6f72f6fb",
   "metadata": {},
   "outputs": [
    {
     "data": {
      "text/plain": [
       "['Canva.lnk',\n",
       " 'CodeBlocks.lnk',\n",
       " 'Cognify Internship.jpg',\n",
       " 'cognify project',\n",
       " 'cognify project.zip',\n",
       " 'computer Graphics',\n",
       " 'DBMS',\n",
       " 'desktop.ini',\n",
       " 'Dev-C++.lnk',\n",
       " 'FADING ARCANA.mp4',\n",
       " 'Fake.csv',\n",
       " 'GitHub Desktop.lnk',\n",
       " 'I Have a Dream..pdf',\n",
       " 'Istudio_Offer Letter.jpg',\n",
       " 'KK_Resume..pdf',\n",
       " 'KK_Resume_Final.3.O554[1].docx',\n",
       " 'Machine_Learning_2_lyst1730809976188.pdf',\n",
       " 'main.ipynb',\n",
       " 'Mathematics',\n",
       " 'Netflix.lnk',\n",
       " 'Operating System-UNIX',\n",
       " 'PHOTOS.jpg',\n",
       " 'python.jpg',\n",
       " 'Setup_TurboC_7_v2.1.exe',\n",
       " 'Spotify.lnk',\n",
       " 'Telegram.lnk',\n",
       " 'TurboC 7.lnk',\n",
       " 'UBUNTO IMAGES.iso',\n",
       " 'UPflairs Intern Data Science',\n",
       " 'Upflairs_Offer Letter.jpg',\n",
       " 'Visual Studio Code.lnk',\n",
       " 'WEB DESIGN',\n",
       " 'Webex.lnk']"
      ]
     },
     "execution_count": 1,
     "metadata": {},
     "output_type": "execute_result"
    }
   ],
   "source": [
    "import os\n",
    "os.getcwd() #current working directory\n",
    "os.listdir(r\"C:\\Users\\DELL\\OneDrive\\Desktop\") \n"
   ]
  },
  {
   "cell_type": "code",
   "execution_count": 2,
   "id": "11d57fdc",
   "metadata": {},
   "outputs": [],
   "source": [
    "import os\n",
    "os.getcwd() #current working directory\n",
    "os.mkdir(\"internship\")\n"
   ]
  },
  {
   "cell_type": "code",
   "execution_count": 4,
   "id": "456e2c62",
   "metadata": {},
   "outputs": [],
   "source": [
    "import os \n",
    "os.remove(\"New.txt\")"
   ]
  },
  {
   "cell_type": "code",
   "execution_count": 8,
   "id": "bb78ffdb",
   "metadata": {},
   "outputs": [],
   "source": [
    "os.remove(\"OS.Handeling\")"
   ]
  },
  {
   "cell_type": "code",
   "execution_count": 5,
   "id": "c63d59e1",
   "metadata": {},
   "outputs": [
    {
     "data": {
      "text/plain": [
       "True"
      ]
     },
     "execution_count": 5,
     "metadata": {},
     "output_type": "execute_result"
    }
   ],
   "source": [
    "os.path.isdir(r\"C:\\Users\\DELL\\OneDrive\\Documents\\Documents\")"
   ]
  },
  {
   "cell_type": "code",
   "execution_count": 6,
   "id": "3c3d7795",
   "metadata": {},
   "outputs": [
    {
     "data": {
      "text/plain": [
       "False"
      ]
     },
     "execution_count": 6,
     "metadata": {},
     "output_type": "execute_result"
    }
   ],
   "source": [
    "os.path.isfile(r\"C:\\Users\\DELL\\OneDrive\\Documents\\Documents\")"
   ]
  },
  {
   "cell_type": "code",
   "execution_count": 7,
   "id": "13d38278",
   "metadata": {},
   "outputs": [
    {
     "data": {
      "text/plain": [
       "'C:\\\\Users\\\\DELL\\\\OneDrive\\\\Desktop\\\\UPflairs Intern Data Science'"
      ]
     },
     "execution_count": 7,
     "metadata": {},
     "output_type": "execute_result"
    }
   ],
   "source": [
    "path1= r\"C:\\Users\\DELL\\OneDrive\\Documents\\Documents\"\n",
    "path2=r\"C:\\Users\\DELL\\OneDrive\\Desktop\\UPflairs Intern Data Science\"\n",
    "os.path.join(path1,path2)"
   ]
  }
 ],
 "metadata": {
  "kernelspec": {
   "display_name": "Python 3",
   "language": "python",
   "name": "python3"
  },
  "language_info": {
   "codemirror_mode": {
    "name": "ipython",
    "version": 3
   },
   "file_extension": ".py",
   "mimetype": "text/x-python",
   "name": "python",
   "nbconvert_exporter": "python",
   "pygments_lexer": "ipython3",
   "version": "3.11.5"
  }
 },
 "nbformat": 4,
 "nbformat_minor": 5
}
