{
 "cells": [
  {
   "cell_type": "markdown",
   "id": "f7e38a6f",
   "metadata": {},
   "source": [
    "| Mode   | Description                                                  |\n",
    "| ------ | ------------------------------------------------------------ |\n",
    "| \"r\"  | Read mode (default), error if file doesn't exist             |\n",
    "| \"w\"  | Write mode, creates a file if not exist, overwrites existing |\n",
    "| \"a\"  | Append mode, adds content to end of file                     |\n",
    "| \"x\"  | Create mode, error if file already exists                    |\n",
    "                                         |"
   ]
  },
  {
   "cell_type": "code",
   "execution_count": 1,
   "id": "04f7963e",
   "metadata": {},
   "outputs": [
    {
     "data": {
      "text/plain": [
       "'my name is kkmy friend is kunal and my friend is kunal and my friend is kunal and my friend is kunal'"
      ]
     },
     "execution_count": 1,
     "metadata": {},
     "output_type": "execute_result"
    }
   ],
   "source": [
    "# open ('file_name','mode')\n",
    "file = open ('demo.txt','r')\n",
    "file.read()\n",
    "# file.close()"
   ]
  },
  {
   "cell_type": "code",
   "execution_count": 2,
   "id": "14d3af15",
   "metadata": {},
   "outputs": [],
   "source": [
    "file =open ('demo.txt' ,'w')\n",
    "file.write(\"my name is kk\")\n",
    "file.close()\n"
   ]
  },
  {
   "cell_type": "code",
   "execution_count": 6,
   "id": "dbdf56fb",
   "metadata": {},
   "outputs": [],
   "source": [
    "file = open ('demo.txt','r')\n",
    "file.read()\n",
    "file.close()\n"
   ]
  },
  {
   "cell_type": "code",
   "execution_count": 3,
   "id": "ae67abe8",
   "metadata": {},
   "outputs": [],
   "source": [
    "file = open('demo.txt','a')\n",
    "file.write(\" and\"+ \" \"+ \"my friend is kunal\")\n",
    "file.close()\n"
   ]
  },
  {
   "cell_type": "code",
   "execution_count": 8,
   "id": "7e62139e",
   "metadata": {},
   "outputs": [],
   "source": [
    "file = open ('demo.txt','r')\n",
    "file.read()\n",
    "file.close()\n",
    "\n",
    "\n"
   ]
  },
  {
   "cell_type": "code",
   "execution_count": 1,
   "id": "5b0c9c09",
   "metadata": {},
   "outputs": [],
   "source": [
    "file = open('New.txt','x')\n",
    "file.write(\"my name is rahul\")\n",
    "file.close()"
   ]
  }
 ],
 "metadata": {
  "kernelspec": {
   "display_name": "Python 3",
   "language": "python",
   "name": "python3"
  },
  "language_info": {
   "codemirror_mode": {
    "name": "ipython",
    "version": 3
   },
   "file_extension": ".py",
   "mimetype": "text/x-python",
   "name": "python",
   "nbconvert_exporter": "python",
   "pygments_lexer": "ipython3",
   "version": "3.11.5"
  }
 },
 "nbformat": 4,
 "nbformat_minor": 5
}
