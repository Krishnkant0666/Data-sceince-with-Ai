{
 "cells": [
  {
   "cell_type": "code",
   "execution_count": null,
   "id": "759aee9c",
   "metadata": {},
   "outputs": [],
   "source": [
    "##create function\n",
    "\n",
    "def funvtion_name():\n",
    "    pass\n",
    "def funvtion_name():\n",
    "    pass\n",
    "def funvtion_name():\n",
    "    pass\n",
    "\n",
    "\n",
    "# function call\n",
    "\n",
    "def function_name():\n",
    "    pass\n",
    " function_name()\n",
    "\n",
    "\n"
   ]
  },
  {
   "cell_type": "code",
   "execution_count": null,
   "id": "a5a0e0eb",
   "metadata": {},
   "outputs": [
    {
     "name": "stdout",
     "output_type": "stream",
     "text": [
      "30\n"
     ]
    }
   ],
   "source": [
    "def add():\n",
    "    return 10+20\n",
    "print (add())\n",
    "\n",
    "add()"
   ]
  },
  {
   "cell_type": "code",
   "execution_count": 18,
   "id": "6271758d",
   "metadata": {},
   "outputs": [
    {
     "name": "stdout",
     "output_type": "stream",
     "text": [
      "my name is krishnkant shukla\n"
     ]
    }
   ],
   "source": [
    "def display():\n",
    "    print(\"my name is krishnkant shukla\")\n",
    "\n",
    "display()"
   ]
  },
  {
   "cell_type": "code",
   "execution_count": 4,
   "id": "fa35a87e",
   "metadata": {},
   "outputs": [],
   "source": [
    "def squre(a):  ##parameter\n",
    "    pass\n",
    "squre(a=2) ##arguement"
   ]
  },
  {
   "cell_type": "code",
   "execution_count": 10,
   "id": "091b5bca",
   "metadata": {},
   "outputs": [
    {
     "name": "stdout",
     "output_type": "stream",
     "text": [
      "4\n"
     ]
    }
   ],
   "source": [
    "def squre(a):  ##parameter\n",
    "    print(a*2)\n",
    "squre(a=2)\n",
    "\n"
   ]
  },
  {
   "cell_type": "code",
   "execution_count": 15,
   "id": "b1044008",
   "metadata": {},
   "outputs": [],
   "source": [
    "def show(name , classes = \"second year\"):\n",
    "    print(f\"my name is {name} and my classroom is {classes}\")\n"
   ]
  },
  {
   "cell_type": "code",
   "execution_count": 17,
   "id": "56f005cb",
   "metadata": {},
   "outputs": [
    {
     "name": "stdout",
     "output_type": "stream",
     "text": [
      "my name is krishnkant shukla and my classroom is 4\n"
     ]
    }
   ],
   "source": [
    "show(name=\"krishnkant shukla\",classes=4)"
   ]
  },
  {
   "cell_type": "code",
   "execution_count": 21,
   "id": "dbcc44c0",
   "metadata": {},
   "outputs": [],
   "source": [
    "#lambda is keyword\n",
    "squre = lambda a:a**2"
   ]
  },
  {
   "cell_type": "code",
   "execution_count": 22,
   "id": "d971b9db",
   "metadata": {},
   "outputs": [
    {
     "data": {
      "text/plain": [
       "9"
      ]
     },
     "execution_count": 22,
     "metadata": {},
     "output_type": "execute_result"
    }
   ],
   "source": [
    "squre(a=3)"
   ]
  },
  {
   "cell_type": "code",
   "execution_count": 23,
   "id": "bbe5ad7f",
   "metadata": {},
   "outputs": [],
   "source": [
    "add = lambda a,b:a+b"
   ]
  },
  {
   "cell_type": "code",
   "execution_count": 25,
   "id": "63fc6c57",
   "metadata": {},
   "outputs": [
    {
     "data": {
      "text/plain": [
       "6"
      ]
     },
     "execution_count": 25,
     "metadata": {},
     "output_type": "execute_result"
    }
   ],
   "source": [
    "add(a=2 ,b= 4)"
   ]
  }
 ],
 "metadata": {
  "kernelspec": {
   "display_name": "Python 3",
   "language": "python",
   "name": "python3"
  },
  "language_info": {
   "codemirror_mode": {
    "name": "ipython",
    "version": 3
   },
   "file_extension": ".py",
   "mimetype": "text/x-python",
   "name": "python",
   "nbconvert_exporter": "python",
   "pygments_lexer": "ipython3",
   "version": "3.11.5"
  }
 },
 "nbformat": 4,
 "nbformat_minor": 5
}
