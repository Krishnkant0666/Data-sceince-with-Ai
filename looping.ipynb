{
 "cells": [
  {
   "cell_type": "code",
   "execution_count": null,
   "id": "9b4527bc",
   "metadata": {},
   "outputs": [],
   "source": [
    "# looping:\n",
    "# for loop\n",
    "# while loop"
   ]
  },
  {
   "cell_type": "markdown",
   "id": "9fd62999",
   "metadata": {},
   "source": [
    "<!-- = assignment operater\n",
    "== comparison operater\n",
    "is identity operater\n",
    "in membership operater  -->"
   ]
  },
  {
   "cell_type": "markdown",
   "id": "20da7674",
   "metadata": {},
   "source": [
    "### **for loop in python**"
   ]
  },
  {
   "cell_type": "code",
   "execution_count": null,
   "id": "115b76f5",
   "metadata": {},
   "outputs": [
    {
     "name": "stdout",
     "output_type": "stream",
     "text": [
      "11\n",
      "2\n",
      "3\n",
      "4\n",
      "5\n",
      "5\n",
      "8\n",
      "5\n",
      "8\n"
     ]
    }
   ],
   "source": [
    "lst = [11,2,3,4,5,5,8,5,8]\n",
    "for item in lst:\n",
    "    print(item)"
   ]
  },
  {
   "cell_type": "code",
   "execution_count": 7,
   "id": "da0f8da5",
   "metadata": {},
   "outputs": [
    {
     "name": "stdout",
     "output_type": "stream",
     "text": [
      "R\n",
      "o\n",
      "h\n",
      "i\n",
      "t\n",
      " \n",
      "k\n",
      "u\n",
      "m\n",
      "a\n",
      "r\n"
     ]
    }
   ],
   "source": [
    "for x in \"Rohit kumar\":\n",
    "     print(x)\n"
   ]
  },
  {
   "cell_type": "code",
   "execution_count": 10,
   "id": "0697632a",
   "metadata": {},
   "outputs": [
    {
     "name": "stdout",
     "output_type": "stream",
     "text": [
      "1\n",
      "2\n",
      "3\n",
      "4\n",
      "5\n",
      "6\n",
      "7\n",
      "8\n",
      "9\n",
      "10\n",
      "11\n",
      "12\n",
      "13\n",
      "14\n",
      "15\n",
      "16\n",
      "17\n",
      "18\n",
      "19\n",
      "20\n",
      "21\n",
      "22\n",
      "23\n",
      "24\n",
      "25\n",
      "26\n",
      "27\n",
      "28\n",
      "29\n"
     ]
    }
   ],
   "source": [
    "for x in range (1,30):\n",
    "   print (x)"
   ]
  },
  {
   "cell_type": "code",
   "execution_count": 11,
   "id": "38be7c2d",
   "metadata": {},
   "outputs": [
    {
     "name": "stdout",
     "output_type": "stream",
     "text": [
      "2\n",
      "4\n",
      "6\n",
      "8\n",
      "10\n",
      "12\n",
      "14\n",
      "16\n",
      "18\n",
      "20\n"
     ]
    }
   ],
   "source": [
    "for x in range(2,22,2):\n",
    "  print(x)"
   ]
  },
  {
   "cell_type": "code",
   "execution_count": 14,
   "id": "21e4ef25",
   "metadata": {},
   "outputs": [],
   "source": [
    "my_dict = {\"name\":\"Rohit Kumar\", 'age':'22',\n",
    "\"mobile_number\":8929450493}"
   ]
  },
  {
   "cell_type": "code",
   "execution_count": null,
   "id": "9d080a42",
   "metadata": {},
   "outputs": [],
   "source": []
  },
  {
   "cell_type": "code",
   "execution_count": null,
   "metadata": {},
   "outputs": [],
   "source": []
  },
  {
   "cell_type": "code",
   "execution_count": null,
   "id": "c5788905",
   "metadata": {},
   "outputs": [],
   "source": []
  },
  {
   "cell_type": "markdown",
   "id": "9498cc9a",
   "metadata": {},
   "source": [
    "### while loop"
   ]
  },
  {
   "cell_type": "code",
   "execution_count": 18,
   "id": "eb1cf350",
   "metadata": {},
   "outputs": [
    {
     "name": "stdout",
     "output_type": "stream",
     "text": [
      "0\n",
      "1\n",
      "2\n",
      "3\n",
      "4\n",
      "5\n",
      "6\n",
      "7\n",
      "8\n",
      "9\n"
     ]
    }
   ],
   "source": [
    "x= 0\n",
    "while x<10:\n",
    "    print(x)\n",
    "    x = x+1 "
   ]
  },
  {
   "cell_type": "code",
   "execution_count": null,
   "id": "0d83a2a2",
   "metadata": {},
   "outputs": [],
   "source": [
    "# break\n",
    "# continue\n",
    "# pass"
   ]
  },
  {
   "cell_type": "code",
   "execution_count": 19,
   "id": "a8d3a2d7",
   "metadata": {},
   "outputs": [
    {
     "name": "stdout",
     "output_type": "stream",
     "text": [
      "11\n",
      "2\n",
      "3\n",
      "4\n"
     ]
    }
   ],
   "source": [
    "lst = [11,2,3,4,5,5,8,5,8]\n",
    "for item in lst:\n",
    "    if item == 5:\n",
    "        break\n",
    "    print(item)"
   ]
  },
  {
   "cell_type": "code",
   "execution_count": 20,
   "metadata": {},
   "outputs": [
    {
     "name": "stdout",
     "output_type": "stream",
     "text": [
      "11\n",
      "2\n",
      "3\n",
      "4\n",
      "8\n",
      "8\n"
     ]
    }
   ],
   "source": [
    "lst = [11,2,3,4,5,5,8,5,8]\n",
    "for item in lst:\n",
    "    if item == 5:\n",
    "        continue\n",
    "    print(item)"
   ]
  },
  {
   "cell_type": "code",
   "execution_count": 32,
   "id": "f0e5a43a",
   "metadata": {},
   "outputs": [
    {
     "name": "stdout",
     "output_type": "stream",
     "text": [
      "Hello\n",
      "Hello\n",
      "Hello\n",
      "2\n",
      "Hello\n",
      "Hello\n",
      "Hello\n",
      "4\n",
      "Hello\n",
      "Hello\n",
      "Hello\n",
      "6\n",
      "Hello\n",
      "Hello\n",
      "Hello\n",
      "8\n",
      "Hello\n",
      "Hello\n",
      "Hello\n",
      "12\n",
      "Hello\n",
      "Hello\n",
      "Hello\n",
      "14\n",
      "Hello\n",
      "Hello\n",
      "Hello\n",
      "16\n",
      "Hello\n",
      "Hello\n",
      "Hello\n",
      "18\n",
      "Hello\n",
      "Hello\n",
      "Hello\n",
      "20\n"
     ]
    }
   ],
   "source": [
    "for x in range(2,22,2):\n",
    "    if x == 10:\n",
    "        continue\n",
    "    print(\"Hello\")\n",
    "    print(\"Hello\")\n",
    "    print(\"Hello\")\n",
    "        \n",
    "    print(x)\n",
    "        "
   ]
  },
  {
   "cell_type": "code",
   "execution_count": null,
   "id": "8363b107",
   "metadata": {},
   "outputs": [],
   "source": []
  },
  {
   "cell_type": "code",
   "execution_count": null,
   "id": "23ca36ee",
   "metadata": {},
   "outputs": [],
   "source": []
  },
  {
   "cell_type": "code",
   "execution_count": null,
   "metadata": {},
   "outputs": [],
   "source": []
  },
  {
   "cell_type": "code",
   "execution_count": null,
   "metadata": {},
   "outputs": [],
   "source": []
  },
  {
   "cell_type": "code",
   "execution_count": null,
   "metadata": {},
   "outputs": [],
   "source": []
  }
 ],
 "metadata": {
  "kernelspec": {
   "display_name": "Python 3",
   "language": "python",
   "name": "python3"
  },
  "language_info": {
   "codemirror_mode": {
    "name": "ipython",
    "version": 3
   },
   "file_extension": ".py",
   "mimetype": "text/x-python",
   "name": "python",
   "nbconvert_exporter": "python",
   "pygments_lexer": "ipython3",
   "version": "3.11.5"
  }
 },
 "nbformat": 4,
 "nbformat_minor": 5
}
